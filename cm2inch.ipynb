{
  "nbformat": 4,
  "nbformat_minor": 0,
  "metadata": {
    "colab": {
      "name": "cm2inch.ipynb",
      "provenance": []
    },
    "kernelspec": {
      "name": "python3",
      "display_name": "Python 3"
    }
  },
  "cells": [
    {
      "cell_type": "code",
      "metadata": {
        "colab_type": "code",
        "id": "C6i9EDSBTxNX",
        "colab": {
          "base_uri": "https://localhost:8080/",
          "height": 517
        },
        "outputId": "56bad0ab-16dc-4549-c0f7-e08635f8dcef"
      },
      "source": [
        "from __future__ import absolute_import, division, print_function, unicode_literals\n",
        "try:\n",
        "  # Use the %tensorflow_version magic if in colab.\n",
        "  %tensorflow_version 2.x\n",
        "except Exception:\n",
        "  pass\n",
        "\n",
        "import tensorflow as tf\n",
        "import numpy as np\n",
        "import logging\n",
        "logger = tf.get_logger()\n",
        "logger.setLevel(logging.ERROR)\n",
        "centimeters = np.array([5, 10,  20,  28, 35, 42,  48, 100],  dtype=float)\n",
        "inches = np.array([ 1.96, 3.93, 7, 13, 17, 20, 23, 39],  dtype=float)\n",
        "for i,c in enumerate(centimeters):\n",
        "  print(\"{} to Centimeters = {} to inches\".format(c, inches[i]))\n",
        "  l0 = tf.keras.layers.Dense(units=1, input_shape=[1])\n",
        "  model = tf.keras.Sequential([l0])\n",
        "  model.compile(loss='mean_squared_error',\n",
        "              optimizer=tf.keras.optimizers.Adam(0.1))\n",
        "  history = model.fit(centimeters, inches, epochs=500, verbose=False)\n",
        "print(\"Finished training the model\")\n",
        "import matplotlib.pyplot as plt\n",
        "plt.xlabel('Epoch Number')\n",
        "plt.ylabel(\"Loss Magnitude\")\n",
        "plt.plot(history.history['loss'])\n",
        "Result = int(input(\"Enter Centimeters: \"))\n",
        "print(model.predict([Result]))\n",
        "\n",
        "print(\"Real Result: \")\n",
        "Real_reSult = Result/2.54\n",
        "print(Real_reSult)\n",
        "\n",
        "print(\"These are the layer variables: {}\".format(l0.get_weights()))"
      ],
      "execution_count": 2,
      "outputs": [
        {
          "output_type": "stream",
          "text": [
            "5.0 to Centimeters = 1.96 to inches\n",
            "10.0 to Centimeters = 3.93 to inches\n",
            "20.0 to Centimeters = 7.0 to inches\n",
            "28.0 to Centimeters = 13.0 to inches\n",
            "35.0 to Centimeters = 17.0 to inches\n",
            "42.0 to Centimeters = 20.0 to inches\n",
            "48.0 to Centimeters = 23.0 to inches\n",
            "100.0 to Centimeters = 39.0 to inches\n",
            "Finished training the model\n",
            "Enter Centimeters: 90\n",
            "[[37.232933]]\n",
            "Real Result: \n",
            "35.43307086614173\n",
            "These are the layer variables: [array([[0.4004059]], dtype=float32), array([1.1963986], dtype=float32)]\n"
          ],
          "name": "stdout"
        },
        {
          "output_type": "display_data",
          "data": {
            "image/png": "[encoded data removed]",
            "text/plain": [
              "<Figure size 432x288 with 1 Axes>"
            ]
          },
          "metadata": {
            "tags": []
          }
        }
      ]
    }
  ]
}